{
  "nbformat": 4,
  "nbformat_minor": 0,
  "metadata": {
    "colab": {
      "provenance": [],
      "authorship_tag": "ABX9TyMn9JKoDhBgFxB2yzgpy1Ma",
      "include_colab_link": true
    },
    "kernelspec": {
      "name": "python3",
      "display_name": "Python 3"
    },
    "language_info": {
      "name": "python"
    }
  },
  "cells": [
    {
      "cell_type": "markdown",
      "metadata": {
        "id": "view-in-github",
        "colab_type": "text"
      },
      "source": [
        "<a href=\"https://colab.research.google.com/github/Sairamkundalapalli/NLP_Sai-Ram/blob/main/ASSIGNMENT_5.ipynb\" target=\"_parent\"><img src=\"https://colab.research.google.com/assets/colab-badge.svg\" alt=\"Open In Colab\"/></a>"
      ]
    },
    {
      "cell_type": "markdown",
      "source": [
        "# 1.Implement a Hidden Markov Model (HMM) for weather forecasting, taking scenario where we have hidden weather states (e.g., \"Sunny\" and \"Rainy\") and observable events (e.g., \"Dry\", \"Damp\", \"Wet\"). The goal is to predict the sequence of weather states based on the observations. [CO2]"
      ],
      "metadata": {
        "id": "wHW6FmbtaLe-"
      }
    },
    {
      "cell_type": "code",
      "execution_count": 1,
      "metadata": {
        "colab": {
          "base_uri": "https://localhost:8080/"
        },
        "id": "AG_ycOk7ZPXN",
        "outputId": "8b29acdb-b132-4dd9-b614-e44e81852a07"
      },
      "outputs": [
        {
          "output_type": "stream",
          "name": "stdout",
          "text": [
            "Observation Sequence: ['Dry', 'Damp', 'Wet']\n",
            "Best State Sequence: ['Sunny', 'Rainy', 'Rainy']\n",
            "Viterbi Matrix:\n",
            " [[0.48     0.1008   0.007056]\n",
            " [0.04     0.0576   0.013824]]\n"
          ]
        }
      ],
      "source": [
        "import numpy as np\n",
        "\n",
        "states = [\"Sunny\", \"Rainy\"]\n",
        "observations = [\"Dry\", \"Damp\", \"Wet\"]\n",
        "\n",
        "state_map = {state: i for i, state in enumerate(states)}\n",
        "obs_map = {obs: i for i, obs in enumerate(observations)}\n",
        "\n",
        "transition_prob = np.array([\n",
        "    [0.7, 0.3],\n",
        "    [0.4, 0.6]\n",
        "])\n",
        "\n",
        "emission_prob = np.array([\n",
        "    [0.6, 0.3, 0.1],\n",
        "    [0.2, 0.4, 0.4]\n",
        "])\n",
        "\n",
        "start_prob = np.array([0.8, 0.2])\n",
        "\n",
        "def viterbi(obs_sequence, start_prob, trans_prob, emit_prob):\n",
        "    n_states = len(start_prob)\n",
        "    n_obs = len(obs_sequence)\n",
        "\n",
        "    viterbi_matrix = np.zeros((n_states, n_obs))\n",
        "    backpointer = np.zeros((n_states, n_obs), dtype=int)\n",
        "\n",
        "    viterbi_matrix[:, 0] = start_prob * emit_prob[:, obs_map[obs_sequence[0]]]\n",
        "\n",
        "    for t in range(1, n_obs):\n",
        "        for s in range(n_states):\n",
        "            prob = viterbi_matrix[:, t - 1] * trans_prob[:, s] * emit_prob[s, obs_map[obs_sequence[t]]]\n",
        "            viterbi_matrix[s, t] = np.max(prob)\n",
        "            backpointer[s, t] = np.argmax(prob)\n",
        "\n",
        "    best_path = np.zeros(n_obs, dtype=int)\n",
        "    best_path[-1] = np.argmax(viterbi_matrix[:, -1])\n",
        "\n",
        "    for t in range(n_obs - 2, -1, -1):\n",
        "        best_path[t] = backpointer[best_path[t + 1], t + 1]\n",
        "\n",
        "    best_state_sequence = [states[state] for state in best_path]\n",
        "\n",
        "    return best_state_sequence, viterbi_matrix\n",
        "\n",
        "obs_sequence = [\"Dry\", \"Damp\", \"Wet\"]\n",
        "\n",
        "best_state_sequence, viterbi_matrix = viterbi(obs_sequence, start_prob, transition_prob, emission_prob)\n",
        "\n",
        "print(\"Observation Sequence:\", obs_sequence)\n",
        "print(\"Best State Sequence:\", best_state_sequence)\n",
        "print(\"Viterbi Matrix:\\n\", viterbi_matrix)"
      ]
    },
    {
      "cell_type": "markdown",
      "source": [
        "# 2. Problem Setup\n",
        "States (S): Hidden states representing the weather (e.g., \"Sunny\", \"Rainy\").\n",
        "Observations (O): Observable events that we can measure (e.g., \"Dry\", \"Damp\", \"Wet\")."
      ],
      "metadata": {
        "id": "uRegVviyaqX_"
      }
    },
    {
      "cell_type": "code",
      "source": [
        "!pip install hmmlearn\n",
        "import numpy as np\n",
        "from hmmlearn import hmm\n",
        "\n",
        "states = [\"Sunny\", \"Rainy\"]\n",
        "n_states = len(states)\n",
        "\n",
        "observations = [\"Dry\", \"Damp\", \"Wet\"]\n",
        "n_observations = len(observations)\n",
        "\n",
        "print(\"States:\", states)\n",
        "print(\"Number of States:\", n_states)\n",
        "print(\"Observations:\", observations)\n",
        "print(\"Number of Observations:\", n_observations)"
      ],
      "metadata": {
        "colab": {
          "base_uri": "https://localhost:8080/"
        },
        "id": "huDEvNU8ZYut",
        "outputId": "c0ac6e7c-3f8e-48f7-e07e-e93aad5be46d"
      },
      "execution_count": 4,
      "outputs": [
        {
          "output_type": "stream",
          "name": "stdout",
          "text": [
            "Collecting hmmlearn\n",
            "  Downloading hmmlearn-0.3.2-cp310-cp310-manylinux_2_17_x86_64.manylinux2014_x86_64.whl.metadata (2.9 kB)\n",
            "Requirement already satisfied: numpy>=1.10 in /usr/local/lib/python3.10/dist-packages (from hmmlearn) (1.26.4)\n",
            "Requirement already satisfied: scikit-learn!=0.22.0,>=0.16 in /usr/local/lib/python3.10/dist-packages (from hmmlearn) (1.5.2)\n",
            "Requirement already satisfied: scipy>=0.19 in /usr/local/lib/python3.10/dist-packages (from hmmlearn) (1.13.1)\n",
            "Requirement already satisfied: joblib>=1.2.0 in /usr/local/lib/python3.10/dist-packages (from scikit-learn!=0.22.0,>=0.16->hmmlearn) (1.4.2)\n",
            "Requirement already satisfied: threadpoolctl>=3.1.0 in /usr/local/lib/python3.10/dist-packages (from scikit-learn!=0.22.0,>=0.16->hmmlearn) (3.5.0)\n",
            "Downloading hmmlearn-0.3.2-cp310-cp310-manylinux_2_17_x86_64.manylinux2014_x86_64.whl (161 kB)\n",
            "\u001b[2K   \u001b[90m━━━━━━━━━━━━━━━━━━━━━━━━━━━━━━━━━━━━━━━━\u001b[0m \u001b[32m161.1/161.1 kB\u001b[0m \u001b[31m3.1 MB/s\u001b[0m eta \u001b[36m0:00:00\u001b[0m\n",
            "\u001b[?25hInstalling collected packages: hmmlearn\n",
            "Successfully installed hmmlearn-0.3.2\n",
            "States: ['Sunny', 'Rainy']\n",
            "Number of States: 2\n",
            "Observations: ['Dry', 'Damp', 'Wet']\n",
            "Number of Observations: 3\n"
          ]
        }
      ]
    },
    {
      "cell_type": "markdown",
      "source": [
        "Transition Probabilities (A): The probability of transitioning from one weather state to another."
      ],
      "metadata": {
        "id": "e__FYr2kawwU"
      }
    },
    {
      "cell_type": "code",
      "source": [
        "import numpy as np\n",
        "from hmmlearn import hmm\n",
        "\n",
        "states = [\"Sunny\", \"Rainy\"]\n",
        "n_states = len(states)\n",
        "\n",
        "observations = [\"Dry\", \"Damp\", \"Wet\"]\n",
        "n_observations = len(observations)\n",
        "\n",
        "transition_prob = np.array([\n",
        "    [0.7, 0.3],\n",
        "    [0.4, 0.6]\n",
        "])\n",
        "\n",
        "print(\"Transition Probabilities (A):\")\n",
        "print(transition_prob)"
      ],
      "metadata": {
        "colab": {
          "base_uri": "https://localhost:8080/"
        },
        "id": "VcIIHET3Zr12",
        "outputId": "f097f725-2964-4f92-c2bc-83450fbb7f25"
      },
      "execution_count": 5,
      "outputs": [
        {
          "output_type": "stream",
          "name": "stdout",
          "text": [
            "Transition Probabilities (A):\n",
            "[[0.7 0.3]\n",
            " [0.4 0.6]]\n"
          ]
        }
      ]
    },
    {
      "cell_type": "markdown",
      "source": [
        "Emission Probabilities (B): The probability of observing a certain event given the weather state."
      ],
      "metadata": {
        "id": "ZN5UOVbba0yb"
      }
    },
    {
      "cell_type": "code",
      "source": [
        "import numpy as np\n",
        "from hmmlearn import hmm\n",
        "\n",
        "states = [\"Sunny\", \"Rainy\"]\n",
        "n_states = len(states)\n",
        "\n",
        "observations = [\"Dry\", \"Damp\", \"Wet\"]\n",
        "n_observations = len(observations)\n",
        "\n",
        "emission_prob = np.array([\n",
        "    [0.8, 0.15, 0.05],\n",
        "    [0.1, 0.35, 0.55]\n",
        "])\n",
        "\n",
        "print(\"Emission Probabilities (B):\")\n",
        "print(emission_prob)"
      ],
      "metadata": {
        "colab": {
          "base_uri": "https://localhost:8080/"
        },
        "id": "kcPJzvcSZtp0",
        "outputId": "5df7825b-d639-4d0b-d45c-f5469a28272b"
      },
      "execution_count": 6,
      "outputs": [
        {
          "output_type": "stream",
          "name": "stdout",
          "text": [
            "Emission Probabilities (B):\n",
            "[[0.8  0.15 0.05]\n",
            " [0.1  0.35 0.55]]\n"
          ]
        }
      ]
    },
    {
      "cell_type": "markdown",
      "source": [
        "Initial Probabilities (π): The probability distribution over the initial states."
      ],
      "metadata": {
        "id": "mQey6dZPa7u8"
      }
    },
    {
      "cell_type": "code",
      "source": [
        "import numpy as np\n",
        "\n",
        "states = [\"Sunny\", \"Rainy\"]\n",
        "n_states = len(states)\n",
        "\n",
        "start_prob = np.array([0.6, 0.4])\n",
        "\n",
        "print(\"Initial Probabilities (π):\")\n",
        "print(start_prob)"
      ],
      "metadata": {
        "colab": {
          "base_uri": "https://localhost:8080/"
        },
        "id": "F-h8ow98Zz56",
        "outputId": "ad851ec2-258e-46c1-b0e3-83b43267810b"
      },
      "execution_count": 7,
      "outputs": [
        {
          "output_type": "stream",
          "name": "stdout",
          "text": [
            "Initial Probabilities (π):\n",
            "[0.6 0.4]\n"
          ]
        }
      ]
    },
    {
      "cell_type": "markdown",
      "source": [
        "#2. Take different transition and emission probabilities or observation sequences on above problem and see how the model's predictions change."
      ],
      "metadata": {
        "id": "DrpX-MbkbTXh"
      }
    },
    {
      "cell_type": "code",
      "source": [
        "import numpy as np\n",
        "from hmmlearn import hmm\n",
        "\n",
        "states = [\"Sunny\", \"Rainy\"]\n",
        "n_states = len(states)\n",
        "\n",
        "transition_prob = np.array([\n",
        "    [0.6, 0.4],\n",
        "    [0.5, 0.5]\n",
        "])\n",
        "\n",
        "means = np.array([\n",
        "    [1.2],\n",
        "    [2.8]\n",
        "])\n",
        "covariances = np.array([\n",
        "    [0.4],\n",
        "    [0.6]\n",
        "])\n",
        "\n",
        "start_prob = np.array([0.7, 0.3])\n",
        "\n",
        "model = hmm.GaussianHMM(n_components=n_states, covariance_type='diag')\n",
        "\n",
        "model.startprob_ = start_prob\n",
        "model.transmat_ = transition_prob\n",
        "model.means_ = means\n",
        "model.covars_ = covariances\n",
        "\n",
        "observation_sequences = [\n",
        "    np.array([1, 2, 3, 1, 2]).reshape(-1, 1),\n",
        "    np.array([3, 3, 2, 1]).reshape(-1, 1)\n",
        "]\n",
        "\n",
        "for i, observation_sequence in enumerate(observation_sequences):\n",
        "\n",
        "    logprob, hidden_states = model.decode(observation_sequence, algorithm=\"viterbi\")\n",
        "    print(f\"\\nObservation Sequence {i + 1}: {[observations[j-1] for j in observation_sequence.flatten()]}\")\n",
        "    print(\"Predicted Hidden States:\", [states[i] for i in hidden_states])"
      ],
      "metadata": {
        "colab": {
          "base_uri": "https://localhost:8080/"
        },
        "id": "oAHnhIILZ3S5",
        "outputId": "a19df1c7-6069-4a08-9e29-98a34b408552"
      },
      "execution_count": 8,
      "outputs": [
        {
          "output_type": "stream",
          "name": "stdout",
          "text": [
            "\n",
            "Observation Sequence 1: ['Dry', 'Damp', 'Wet', 'Dry', 'Damp']\n",
            "Predicted Hidden States: ['Sunny', 'Sunny', 'Rainy', 'Sunny', 'Sunny']\n",
            "\n",
            "Observation Sequence 2: ['Wet', 'Wet', 'Damp', 'Dry']\n",
            "Predicted Hidden States: ['Rainy', 'Rainy', 'Sunny', 'Sunny']\n"
          ]
        }
      ]
    }
  ]
}